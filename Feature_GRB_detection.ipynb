{
 "cells": [
  {
   "cell_type": "code",
   "execution_count": 1,
   "id": "1d8c8fc8-d9b9-4565-b8ad-bed3154a3ce3",
   "metadata": {},
   "outputs": [
    {
     "name": "stderr",
     "output_type": "stream",
     "text": [
      "2022-04-12 14:18:47.011612: I tensorflow/stream_executor/platform/default/dso_loader.cc:49] Successfully opened dynamic library libcudart.so.10.1\n"
     ]
    }
   ],
   "source": [
    "#importing libs\n",
    "import numpy as np\n",
    "import pandas as pd\n",
    "import matplotlib.pyplot as plt\n",
    "import seaborn as sns\n",
    "import scipy \n",
    "from scipy.stats import iqr, skew, kurtosis, shapiro, normaltest\n",
    "\n",
    "import tensorflow\n",
    "from tensorflow.keras.models import Sequential\n",
    "from tensorflow.keras.layers import Dense, Flatten, Conv1d\n",
    "from tensorflow.keras.optimizers import Adam\n",
    "\n",
    "\n",
    "from sklearn.preprocessing import LabelEncoder\n",
    "from sklearn.model_selection import train_test_split, cross_validate\n",
    "from sklearn.metrics import auc, roc_curve, confusion_matrix, classification_report\n",
    "from sklearn.svm import SVC\n",
    "from sklearn.ensemble import StackingClassifier, RandomForestClassifier, ExtraTreesClassifier"
   ]
  },
  {
   "cell_type": "code",
   "execution_count": 2,
   "id": "156861fe-8341-4e32-b833-0cf62eb6c729",
   "metadata": {},
   "outputs": [],
   "source": [
    "#generating GRB peak with poisson noise\n",
    "\n",
    "\n",
    "def gen_signal(N, x0, w, A, bkg, peak=False):\n",
    "    x = np.arange(N)\n",
    "    y = np.ones(N) * bkg \n",
    "    \n",
    "    if peak:\n",
    "        y_peak = np.exp(-(x-x0)/w) * A\n",
    "        y_peak[:x0] = 0\n",
    "        y += y_peak\n",
    "        \n",
    "    y = np.random.poisson(y)\n",
    "\n",
    "    return x, y"
   ]
  },
  {
   "cell_type": "code",
   "execution_count": 3,
   "id": "1a281124-fe98-4f77-bfd8-452921c7be76",
   "metadata": {},
   "outputs": [
    {
     "data": {
      "text/html": [
       "<div>\n",
       "<style scoped>\n",
       "    .dataframe tbody tr th:only-of-type {\n",
       "        vertical-align: middle;\n",
       "    }\n",
       "\n",
       "    .dataframe tbody tr th {\n",
       "        vertical-align: top;\n",
       "    }\n",
       "\n",
       "    .dataframe thead th {\n",
       "        text-align: right;\n",
       "    }\n",
       "</style>\n",
       "<table border=\"1\" class=\"dataframe\">\n",
       "  <thead>\n",
       "    <tr style=\"text-align: right;\">\n",
       "      <th></th>\n",
       "      <th>x0</th>\n",
       "      <th>w</th>\n",
       "      <th>A</th>\n",
       "      <th>bkg</th>\n",
       "      <th>GRB</th>\n",
       "    </tr>\n",
       "  </thead>\n",
       "  <tbody>\n",
       "    <tr>\n",
       "      <th>0</th>\n",
       "      <td>42</td>\n",
       "      <td>12.694009</td>\n",
       "      <td>8.08307</td>\n",
       "      <td>13.777925</td>\n",
       "      <td>False</td>\n",
       "    </tr>\n",
       "    <tr>\n",
       "      <th>1</th>\n",
       "      <td>21</td>\n",
       "      <td>11.43444</td>\n",
       "      <td>7.313835</td>\n",
       "      <td>10.184488</td>\n",
       "      <td>False</td>\n",
       "    </tr>\n",
       "    <tr>\n",
       "      <th>2</th>\n",
       "      <td>10</td>\n",
       "      <td>16.706559</td>\n",
       "      <td>9.060301</td>\n",
       "      <td>10.910753</td>\n",
       "      <td>False</td>\n",
       "    </tr>\n",
       "    <tr>\n",
       "      <th>3</th>\n",
       "      <td>46</td>\n",
       "      <td>17.257081</td>\n",
       "      <td>8.025535</td>\n",
       "      <td>12.623473</td>\n",
       "      <td>False</td>\n",
       "    </tr>\n",
       "    <tr>\n",
       "      <th>4</th>\n",
       "      <td>43</td>\n",
       "      <td>18.859242</td>\n",
       "      <td>7.42481</td>\n",
       "      <td>10.993628</td>\n",
       "      <td>True</td>\n",
       "    </tr>\n",
       "    <tr>\n",
       "      <th>5</th>\n",
       "      <td>47</td>\n",
       "      <td>15.794543</td>\n",
       "      <td>9.549923</td>\n",
       "      <td>13.867159</td>\n",
       "      <td>True</td>\n",
       "    </tr>\n",
       "    <tr>\n",
       "      <th>6</th>\n",
       "      <td>46</td>\n",
       "      <td>11.127548</td>\n",
       "      <td>9.949697</td>\n",
       "      <td>14.461951</td>\n",
       "      <td>False</td>\n",
       "    </tr>\n",
       "    <tr>\n",
       "      <th>7</th>\n",
       "      <td>48</td>\n",
       "      <td>18.275816</td>\n",
       "      <td>9.887481</td>\n",
       "      <td>10.213424</td>\n",
       "      <td>True</td>\n",
       "    </tr>\n",
       "    <tr>\n",
       "      <th>8</th>\n",
       "      <td>46</td>\n",
       "      <td>18.112911</td>\n",
       "      <td>9.15143</td>\n",
       "      <td>13.159857</td>\n",
       "      <td>True</td>\n",
       "    </tr>\n",
       "    <tr>\n",
       "      <th>9</th>\n",
       "      <td>44</td>\n",
       "      <td>19.346533</td>\n",
       "      <td>9.113543</td>\n",
       "      <td>14.418978</td>\n",
       "      <td>True</td>\n",
       "    </tr>\n",
       "  </tbody>\n",
       "</table>\n",
       "</div>"
      ],
      "text/plain": [
       "   x0          w         A        bkg    GRB\n",
       "0  42  12.694009   8.08307  13.777925  False\n",
       "1  21   11.43444  7.313835  10.184488  False\n",
       "2  10  16.706559  9.060301  10.910753  False\n",
       "3  46  17.257081  8.025535  12.623473  False\n",
       "4  43  18.859242   7.42481  10.993628   True\n",
       "5  47  15.794543  9.549923  13.867159   True\n",
       "6  46  11.127548  9.949697  14.461951  False\n",
       "7  48  18.275816  9.887481  10.213424   True\n",
       "8  46  18.112911   9.15143  13.159857   True\n",
       "9  44  19.346533  9.113543  14.418978   True"
      ]
     },
     "execution_count": 3,
     "metadata": {},
     "output_type": "execute_result"
    }
   ],
   "source": [
    "#random constant vales\n",
    "\n",
    "#Number of data\n",
    "N_data = 10000\n",
    "df = pd.DataFrame(columns=[\"x0\", \"w\", \"A\", \"bkg\", \"GRB\"], index=range(N_data))\n",
    "\n",
    "for i in range(N_data):\n",
    "    df[\"x0\"].loc[i] = np.random.randint(10, 50)\n",
    "    df[\"w\"].loc[i] = np.random.uniform(10, 20)\n",
    "    df[\"A\"].loc[i] = np.random.uniform(7, 10)\n",
    "    df[\"bkg\"].loc[i] = np.random.uniform(10,15)\n",
    "    df[\"GRB\"].loc[i] = [True, False][np.random.randint(2)]\n",
    "df[0:10]"
   ]
  },
  {
   "cell_type": "code",
   "execution_count": 4,
   "id": "8cd5ad0e-0355-440c-a72a-f7e11ffbcac2",
   "metadata": {},
   "outputs": [],
   "source": [
    "#generating random data\n",
    "\n",
    "#duration of peak window\n",
    "N_tu = 100\n",
    "\n",
    "data = []\n",
    "for i in range(N_data):\n",
    "    data.append(gen_signal(N=N_tu, \n",
    "                           x0=df.x0.loc[i], \n",
    "                           w=df.w.loc[i], \n",
    "                           A=df.A.loc[i], \n",
    "                           bkg=df.bkg.loc[i], \n",
    "                           peak=df.GRB.loc[i])[1])"
   ]
  },
  {
   "cell_type": "code",
   "execution_count": 5,
   "id": "cd71ed37",
   "metadata": {},
   "outputs": [
    {
     "data": {
      "image/png": "[encoded data removed]",
      "text/plain": [
       "<Figure size 720x720 with 9 Axes>"
      ]
     },
     "metadata": {
      "needs_background": "light"
     },
     "output_type": "display_data"
    }
   ],
   "source": [
    "#9 samples of generated data\n",
    "x = np.arange(N_tu)\n",
    "\n",
    "fig, axs = plt.subplots(3,3,figsize=(10,10))\n",
    "for i in range(3):\n",
    "    for j in range(3):\n",
    "        ind = (i+1)*(j+1)\n",
    "        axs[i,j].set_title(df.GRB.loc[ind])\n",
    "        axs[i,j].step(x, data[ind])"
   ]
  },
  {
   "cell_type": "code",
   "execution_count": 6,
   "id": "55269ce1",
   "metadata": {},
   "outputs": [
    {
     "data": {
      "text/plain": [
       "[<matplotlib.lines.Line2D at 0x1510d508e520>]"
      ]
     },
     "execution_count": 6,
     "metadata": {},
     "output_type": "execute_result"
    },
    {
     "data": {
      "image/png": "[encoded data removed]",
      "text/plain": [
       "<Figure size 432x288 with 1 Axes>"
      ]
     },
     "metadata": {
      "needs_background": "light"
     },
     "output_type": "display_data"
    }
   ],
   "source": [
    "plt.plot(data[0])"
   ]
  },
  {
   "cell_type": "code",
   "execution_count": 7,
   "id": "c9927b26",
   "metadata": {},
   "outputs": [
    {
     "data": {
      "text/plain": [
       "[<matplotlib.lines.Line2D at 0x1510d4ff5d90>]"
      ]
     },
     "execution_count": 7,
     "metadata": {},
     "output_type": "execute_result"
    },
    {
     "data": {
      "image/png": "[encoded data removed]",
      "text/plain": [
       "<Figure size 432x288 with 1 Axes>"
      ]
     },
     "metadata": {
      "needs_background": "light"
     },
     "output_type": "display_data"
    }
   ],
   "source": [
    "plt.plot(data[2])"
   ]
  },
  {
   "cell_type": "code",
   "execution_count": 8,
   "id": "72e128d3",
   "metadata": {},
   "outputs": [
    {
     "data": {
      "text/html": [
       "<div>\n",
       "<style scoped>\n",
       "    .dataframe tbody tr th:only-of-type {\n",
       "        vertical-align: middle;\n",
       "    }\n",
       "\n",
       "    .dataframe tbody tr th {\n",
       "        vertical-align: top;\n",
       "    }\n",
       "\n",
       "    .dataframe thead th {\n",
       "        text-align: right;\n",
       "    }\n",
       "</style>\n",
       "<table border=\"1\" class=\"dataframe\">\n",
       "  <thead>\n",
       "    <tr style=\"text-align: right;\">\n",
       "      <th></th>\n",
       "      <th>std</th>\n",
       "      <th>IQR</th>\n",
       "      <th>skewness</th>\n",
       "      <th>kurtosis</th>\n",
       "      <th>normaltest</th>\n",
       "      <th>shapiro</th>\n",
       "    </tr>\n",
       "  </thead>\n",
       "  <tbody>\n",
       "    <tr>\n",
       "      <th>0</th>\n",
       "      <td>3.651904</td>\n",
       "      <td>4.25</td>\n",
       "      <td>0.194664</td>\n",
       "      <td>0.292976</td>\n",
       "      <td>1.513444</td>\n",
       "      <td>0.98085</td>\n",
       "    </tr>\n",
       "    <tr>\n",
       "      <th>1</th>\n",
       "      <td>2.823898</td>\n",
       "      <td>4.0</td>\n",
       "      <td>0.007469</td>\n",
       "      <td>-0.162701</td>\n",
       "      <td>0.005152</td>\n",
       "      <td>0.982358</td>\n",
       "    </tr>\n",
       "    <tr>\n",
       "      <th>2</th>\n",
       "      <td>3.633992</td>\n",
       "      <td>5.0</td>\n",
       "      <td>0.548008</td>\n",
       "      <td>0.261804</td>\n",
       "      <td>5.801131</td>\n",
       "      <td>0.972221</td>\n",
       "    </tr>\n",
       "    <tr>\n",
       "      <th>3</th>\n",
       "      <td>3.823336</td>\n",
       "      <td>5.0</td>\n",
       "      <td>0.205545</td>\n",
       "      <td>-0.347446</td>\n",
       "      <td>1.118415</td>\n",
       "      <td>0.98272</td>\n",
       "    </tr>\n",
       "    <tr>\n",
       "      <th>4</th>\n",
       "      <td>4.353206</td>\n",
       "      <td>4.25</td>\n",
       "      <td>1.421821</td>\n",
       "      <td>4.709087</td>\n",
       "      <td>41.472097</td>\n",
       "      <td>0.907979</td>\n",
       "    </tr>\n",
       "    <tr>\n",
       "      <th>...</th>\n",
       "      <td>...</td>\n",
       "      <td>...</td>\n",
       "      <td>...</td>\n",
       "      <td>...</td>\n",
       "      <td>...</td>\n",
       "      <td>...</td>\n",
       "    </tr>\n",
       "    <tr>\n",
       "      <th>9995</th>\n",
       "      <td>4.104863</td>\n",
       "      <td>4.25</td>\n",
       "      <td>0.113863</td>\n",
       "      <td>0.112418</td>\n",
       "      <td>0.555335</td>\n",
       "      <td>0.983339</td>\n",
       "    </tr>\n",
       "    <tr>\n",
       "      <th>9996</th>\n",
       "      <td>3.049115</td>\n",
       "      <td>3.25</td>\n",
       "      <td>0.48953</td>\n",
       "      <td>1.5449</td>\n",
       "      <td>10.221804</td>\n",
       "      <td>0.966067</td>\n",
       "    </tr>\n",
       "    <tr>\n",
       "      <th>9997</th>\n",
       "      <td>4.569672</td>\n",
       "      <td>5.25</td>\n",
       "      <td>0.334757</td>\n",
       "      <td>0.125183</td>\n",
       "      <td>2.367378</td>\n",
       "      <td>0.985443</td>\n",
       "    </tr>\n",
       "    <tr>\n",
       "      <th>9998</th>\n",
       "      <td>3.690528</td>\n",
       "      <td>6.0</td>\n",
       "      <td>0.498956</td>\n",
       "      <td>-0.419253</td>\n",
       "      <td>4.939342</td>\n",
       "      <td>0.964242</td>\n",
       "    </tr>\n",
       "    <tr>\n",
       "      <th>9999</th>\n",
       "      <td>4.180179</td>\n",
       "      <td>5.0</td>\n",
       "      <td>0.234064</td>\n",
       "      <td>0.27637</td>\n",
       "      <td>1.768715</td>\n",
       "      <td>0.980226</td>\n",
       "    </tr>\n",
       "  </tbody>\n",
       "</table>\n",
       "<p>10000 rows × 6 columns</p>\n",
       "</div>"
      ],
      "text/plain": [
       "           std   IQR  skewness  kurtosis normaltest   shapiro\n",
       "0     3.651904  4.25  0.194664  0.292976   1.513444   0.98085\n",
       "1     2.823898   4.0  0.007469 -0.162701   0.005152  0.982358\n",
       "2     3.633992   5.0  0.548008  0.261804   5.801131  0.972221\n",
       "3     3.823336   5.0  0.205545 -0.347446   1.118415   0.98272\n",
       "4     4.353206  4.25  1.421821  4.709087  41.472097  0.907979\n",
       "...        ...   ...       ...       ...        ...       ...\n",
       "9995  4.104863  4.25  0.113863  0.112418   0.555335  0.983339\n",
       "9996  3.049115  3.25   0.48953    1.5449  10.221804  0.966067\n",
       "9997  4.569672  5.25  0.334757  0.125183   2.367378  0.985443\n",
       "9998  3.690528   6.0  0.498956 -0.419253   4.939342  0.964242\n",
       "9999  4.180179   5.0  0.234064   0.27637   1.768715  0.980226\n",
       "\n",
       "[10000 rows x 6 columns]"
      ]
     },
     "execution_count": 8,
     "metadata": {},
     "output_type": "execute_result"
    }
   ],
   "source": [
    "shapiro_test = lambda x: shapiro(x)[0]\n",
    "normal_test = lambda x: normaltest(x)[0]\n",
    "\n",
    "features = {\"std\" : np.std,\n",
    "            \"IQR\" : iqr, # difference between the 75th and 25th percentile\n",
    "            \"skewness\" : skew, # for normally distributed data, the skewness should be about zero\n",
    "            \"kurtosis\" : kurtosis, #  fourth central moment divided by the square of the variance\n",
    "            \"normaltest\" : normal_test,\n",
    "            \"shapiro\" : shapiro_test}\n",
    "\n",
    "\n",
    "            \n",
    "columns = [\"std\", \"IQR\", \"skewness\", \"kurtosis\", \"normaltest\", \"shapiro\"]\n",
    "df_hist = pd.DataFrame(columns = columns, index=range(N_data))\n",
    "\n",
    "for i, flux in enumerate(data):\n",
    "    for f in features.keys():\n",
    "        df_hist[f].loc[i] = features[f](flux)\n",
    "    \n",
    "df_hist    "
   ]
  },
  {
   "cell_type": "code",
   "execution_count": 9,
   "id": "d2a5f1f0-8748-41c5-8c39-f695ab19f3f1",
   "metadata": {},
   "outputs": [],
   "source": [
    "X = df_hist[[\"std\", \"IQR\", \"skewness\", \"kurtosis\", \"normaltest\", \"shapiro\"]]\n",
    "y = df[\"GRB\"]\n",
    "\n",
    "#encode target labels with value between 0 and n_classes-1\n",
    "le = LabelEncoder()\n",
    "\n",
    "#fit label encoder\n",
    "le.fit(y)\n",
    "\n",
    "\n",
    "#transform labels to normalized encoding (True = 1, False = 0)\n",
    "y = le.transform(y) \n",
    "\n",
    "#splits data into train and test dataset\n",
    "X_train, X_test, y_train, y_test = train_test_split(X, y, random_state=42)"
   ]
  },
  {
   "cell_type": "code",
   "execution_count": 10,
   "id": "f926a989",
   "metadata": {},
   "outputs": [
    {
     "name": "stdout",
     "output_type": "stream",
     "text": [
      "(7500, 6) (2500, 6)\n"
     ]
    }
   ],
   "source": [
    "print(X_train.shape, X_test.shape)"
   ]
  },
  {
   "cell_type": "code",
   "execution_count": 11,
   "id": "ad76554d-954d-409b-abe7-c6546949c784",
   "metadata": {},
   "outputs": [
    {
     "data": {
      "text/plain": [
       "StackingClassifier(estimators=[('RFC', RandomForestClassifier())])"
      ]
     },
     "execution_count": 11,
     "metadata": {},
     "output_type": "execute_result"
    }
   ],
   "source": [
    "classifier = [(\"RFC\", RandomForestClassifier())]\n",
    "model = StackingClassifier(classifier)\n",
    "\n",
    "model.fit(X_train, y_train)"
   ]
  },
  {
   "cell_type": "code",
   "execution_count": 12,
   "id": "f8a83d01",
   "metadata": {},
   "outputs": [
    {
     "data": {
      "text/plain": [
       "(array([0, 0, 1, ..., 0, 1, 1]), 0.8352)"
      ]
     },
     "execution_count": 12,
     "metadata": {},
     "output_type": "execute_result"
    }
   ],
   "source": [
    "y_pred = model.predict(X_test)\n",
    "y_pred, sum(y_pred == y_test)/ len(y_pred)"
   ]
  },
  {
   "cell_type": "code",
   "execution_count": 13,
   "id": "edd0aa8c",
   "metadata": {},
   "outputs": [
    {
     "name": "stdout",
     "output_type": "stream",
     "text": [
      "True Positive 2088 0.8352\n",
      "True Negative 213 0.0852\n",
      "False Positive and Negative 199 0.0796\n"
     ]
    }
   ],
   "source": [
    "y_srov = y_pred-y_test \n",
    "A, B, C = sum(y_srov == 0), sum(y_srov == 1), sum(y_srov == -1)\n",
    "A, B, C\n",
    "NN = len(y_srov)\n",
    "print('True Positive',A, A/NN)\n",
    "print('True Negative', B, B/NN)\n",
    "print('False Positive and Negative', C, C/NN)"
   ]
  },
  {
   "cell_type": "code",
   "execution_count": 14,
   "id": "4b66d8ed",
   "metadata": {},
   "outputs": [
    {
     "name": "stdout",
     "output_type": "stream",
     "text": [
      "              precision    recall  f1-score   support\n",
      "\n",
      "           0      0.839     0.830     0.835      1253\n",
      "           1      0.831     0.840     0.836      1247\n",
      "\n",
      "    accuracy                          0.835      2500\n",
      "   macro avg      0.835     0.835     0.835      2500\n",
      "weighted avg      0.835     0.835     0.835      2500\n",
      "\n"
     ]
    }
   ],
   "source": [
    "print(classification_report(y_test, y_pred, digits=3))"
   ]
  },
  {
   "cell_type": "code",
   "execution_count": 15,
   "id": "25bdd307",
   "metadata": {},
   "outputs": [
    {
     "data": {
      "text/plain": [
       "'Crossvalidation score: 0.832 +/- 0.013'"
      ]
     },
     "execution_count": 15,
     "metadata": {},
     "output_type": "execute_result"
    }
   ],
   "source": [
    "res = cross_validate(model, X, y, cv=10)\n",
    "\n",
    "score = res[\"test_score\"]\n",
    "\"Crossvalidation score: {0:.3f} +/- {1:.3f}\".format(np.mean(score), np.std(score))"
   ]
  },
  {
   "cell_type": "code",
   "execution_count": 16,
   "id": "2aa8928d",
   "metadata": {},
   "outputs": [
    {
     "name": "stdout",
     "output_type": "stream",
     "text": [
      "[0.42561221 0.10465704 0.13862233 0.10203044 0.11871815 0.11035982]\n"
     ]
    },
    {
     "data": {
      "image/png": "[encoded data removed]",
      "text/plain": [
       "<Figure size 432x288 with 1 Axes>"
      ]
     },
     "metadata": {
      "needs_background": "light"
     },
     "output_type": "display_data"
    }
   ],
   "source": [
    "clf = ExtraTreesClassifier(random_state=2).fit(X,y)\n",
    "print(clf.feature_importances_)\n",
    "plt.bar(np.arange(6), clf.feature_importances_, 0.5)\n",
    "plt.xticks(np.arange(6), X.columns);"
   ]
  },
  {
   "cell_type": "code",
   "execution_count": 17,
   "id": "cb840265",
   "metadata": {},
   "outputs": [
    {
     "data": {
      "text/plain": [
       "{'fit_time': array([5.66179585, 5.40781593, 5.9725771 , 6.01161361, 5.5866487 ,\n",
       "        6.06612706, 5.9003582 , 5.87963271, 5.98928094, 5.90341926]),\n",
       " 'score_time': array([0.0254848 , 0.02567673, 0.02156711, 0.02516818, 0.0235796 ,\n",
       "        0.02319789, 0.02829647, 0.02124238, 0.02287984, 0.02247071]),\n",
       " 'test_score': array([0.826, 0.855, 0.815, 0.826, 0.837, 0.835, 0.847, 0.807, 0.836,\n",
       "        0.837])}"
      ]
     },
     "execution_count": 17,
     "metadata": {},
     "output_type": "execute_result"
    }
   ],
   "source": [
    "res"
   ]
  },
  {
   "cell_type": "code",
   "execution_count": null,
   "id": "940c21b2",
   "metadata": {},
   "outputs": [],
   "source": []
  }
 ],
 "metadata": {
  "kernelspec": {
   "display_name": "Python 3 (ipykernel)",
   "language": "python",
   "name": "python3"
  },
  "language_info": {
   "codemirror_mode": {
    "name": "ipython",
    "version": 3
   },
   "file_extension": ".py",
   "mimetype": "text/x-python",
   "name": "python",
   "nbconvert_exporter": "python",
   "pygments_lexer": "ipython3",
   "version": "3.9.12"
  }
 },
 "nbformat": 4,
 "nbformat_minor": 5
}
